{
 "cells": [
  {
   "cell_type": "markdown",
   "metadata": {},
   "source": [
    "# Pycalphad test notebook - Phase Diagram Plotting"
   ]
  },
  {
   "cell_type": "code",
   "execution_count": null,
   "metadata": {
    "collapsed": true
   },
   "outputs": [],
   "source": [
    "%matplotlib inline\n",
    "import matplotlib.pyplot as plt\n",
    "from pycalphad import Database, binplot\n",
    "import pycalphad.variables as v"
   ]
  },
  {
   "cell_type": "code",
   "execution_count": null,
   "metadata": {},
   "outputs": [],
   "source": [
    "#computes Nickel-Copper phase diagram - takes about 5 minutes to run\n",
    "\n",
    "db_nicu = Database('Ni-Cu.tdb')\n",
    "my_phases_nicu = ['LIQUID', 'FCC_A1']\n",
    "fig = plt.figure(figsize=(9,6))\n",
    "binplot(db_nicu, ['NI', 'CU', 'VA'] , my_phases_nicu, {v.X('CU'):(0,1,0.02),\n",
    "                                                       v.T: (400, 1750, 10), v.P:101325},  ax=fig.gca())\n",
    "plt.show()"
   ]
  }
 ],
 "metadata": {
  "kernelspec": {
   "display_name": "Python 3",
   "language": "python",
   "name": "python3"
  },
  "language_info": {
   "codemirror_mode": {
    "name": "ipython",
    "version": 3
   },
   "file_extension": ".py",
   "mimetype": "text/x-python",
   "name": "python",
   "nbconvert_exporter": "python",
   "pygments_lexer": "ipython3",
   "version": "3.6.1"
  }
 },
 "nbformat": 4,
 "nbformat_minor": 2
}
