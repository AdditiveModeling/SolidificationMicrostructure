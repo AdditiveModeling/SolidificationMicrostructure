{
 "cells": [
  {
   "cell_type": "markdown",
   "metadata": {},
   "source": [
    "# Simple Spinodal Decomposition Example"
   ]
  },
  {
   "cell_type": "code",
   "execution_count": null,
   "metadata": {
    "collapsed": true
   },
   "outputs": [],
   "source": [
    "import numpy as np\n",
    "import matplotlib.pyplot as plt\n"
   ]
  },
  {
   "cell_type": "code",
   "execution_count": null,
   "metadata": {
    "collapsed": true
   },
   "outputs": [],
   "source": [
    "def simulate(phi):\n",
    "    inversedxsquared = 1.\n",
    "    M = 1.\n",
    "    dt = 0.06\n",
    "    ep_sq = 0.2\n",
    "    laplacian = inversedxsquared*(np.roll(phi, 1, 0)+np.roll(phi, -1, 0)+np.roll(phi, -1, 1)+np.roll(phi, 1, 1)-4*phi)\n",
    "    dfdphi = -ep_sq*laplacian + (4*phi*phi*phi-6*phi*phi+2*phi)\n",
    "    lap_dfdp = inversedxsquared*(np.roll(dfdphi, 1, 0)+np.roll(dfdphi, -1, 0)+np.roll(dfdphi, -1, 1)+np.roll(dfdphi, 1, 1)-4*dfdphi)\n",
    "    deltaphi = dt*M*lap_dfdp\n",
    "    return phi+deltaphi"
   ]
  },
  {
   "cell_type": "code",
   "execution_count": null,
   "metadata": {},
   "outputs": [],
   "source": [
    "#initialize phi\n",
    "phi = np.zeros([100, 100])\n",
    "phi += 0.49995\n",
    "phi += 0.0001*np.random.random(phi.shape)\n",
    "\n",
    "plt.imshow(phi)\n",
    "plt.show()"
   ]
  },
  {
   "cell_type": "code",
   "execution_count": null,
   "metadata": {},
   "outputs": [],
   "source": [
    "#simulate\n",
    "for j in range(20):\n",
    "    for i in range(100):\n",
    "        #print(i)\n",
    "        phi = simulate(phi)\n",
    "    plt.imshow(phi)\n",
    "    plt.show()\n"
   ]
  }
 ],
 "metadata": {
  "kernelspec": {
   "display_name": "Python 3",
   "language": "python",
   "name": "python3"
  },
  "language_info": {
   "codemirror_mode": {
    "name": "ipython",
    "version": 3
   },
   "file_extension": ".py",
   "mimetype": "text/x-python",
   "name": "python",
   "nbconvert_exporter": "python",
   "pygments_lexer": "ipython3",
   "version": "3.6.1"
  }
 },
 "nbformat": 4,
 "nbformat_minor": 2
}
