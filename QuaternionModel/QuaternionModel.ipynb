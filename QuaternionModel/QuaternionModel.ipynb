{
 "cells": [
  {
   "cell_type": "code",
   "execution_count": 1,
   "metadata": {
    "collapsed": true
   },
   "outputs": [],
   "source": [
    "%matplotlib inline\n",
    "import numpy as np\n",
    "import os\n",
    "import matplotlib.pyplot as plt\n",
    "from ipywidgets import interact, fixed"
   ]
  },
  {
   "cell_type": "code",
   "execution_count": 126,
   "metadata": {
    "collapsed": false
   },
   "outputs": [],
   "source": [
    "def __p(phi):\n",
    "    return phi*phi*phi*(10-15*phi+6*phi*phi)\n",
    "\n",
    "def __g(phi):\n",
    "    return (phi*phi*(1-phi)*(1-phi))\n",
    "\n",
    "def __gprime(phi):\n",
    "    return (4*phi*phi*phi - 6*phi*phi +2*phi)\n",
    "\n",
    "_p = np.vectorize(__p)\n",
    "_g = np.vectorize(__g) \n",
    "_gprime = np.vectorize(__gprime)\n",
    "\n",
    "def grad(phi, dx, i):\n",
    "    phim = np.roll(phi, -1, 0)\n",
    "    phip = np.roll(phi, 1, 0)\n",
    "    return (phip-phim)/(2*dx)\n",
    "\n",
    "def grad2(phi, dx):\n",
    "    phim = np.roll(phi, -1, 0)\n",
    "    phip = np.roll(phi, 1, 0)\n",
    "    return (phip+phim-2*phi)/(dx*dx)\n",
    "\n",
    "def renormalize(q1, q2, q3, q4):\n",
    "    q = np.sqrt(q1*q1+q2*q2+q3*q3+q4*q4)\n",
    "    return q1/q, q2/q, q3/q, q4/q"
   ]
  },
  {
   "cell_type": "code",
   "execution_count": 127,
   "metadata": {
    "collapsed": false
   },
   "outputs": [],
   "source": [
    "#material parameters\n",
    "T_mA = 1728. #melting point of nickel\n",
    "T_mB = 1358. #melting point of copper\n",
    "L_A = 2350. #latent heat of nickel, J/cm^3\n",
    "L_B = 1728. #latent heat of copper, J/cm^3\n",
    "s_A = 3.7e-5 #surface energy of nickel, J/cm^2\n",
    "s_B = 2.9e-5 #surface energy of copper, J/cm^2\n",
    "D_L = 1e-5 #diffusion in liquid, cm^2/s\n",
    "D_S = 1e-9 #diffusion in solid, cm^2/s\n",
    "B_A = 0.33 #linear kinetic coefficient of nickel, cm/K/s\n",
    "B_B = 0.39 #linear kinetic coefficient of copper, cm/K/s\n",
    "v_m = 7.42 #molar volume, cm^3/mol\n",
    "R = 8.314 #gas constant, J/mol*K\n",
    "y_e = 0.06 #anisotropy"
   ]
  },
  {
   "cell_type": "code",
   "execution_count": 189,
   "metadata": {
    "collapsed": false,
    "scrolled": true
   },
   "outputs": [
    {
     "name": "stdout",
     "output_type": "stream",
     "text": [
      "1.31e-09\n",
      "0.0325927346396\n"
     ]
    }
   ],
   "source": [
    "np.set_printoptions(threshold=np.inf)\n",
    "T = 1370.\n",
    "res = 51\n",
    "dx = 4.6e-6 #spacial division, cm\n",
    "dx = 1.31e-6\n",
    "dt = dx*dx/5./D_L\n",
    "dt = 1.31e-9\n",
    "print(dt)\n",
    "d = dx/0.94 #interfacial thickness\n",
    "ebar = np.sqrt(6*np.sqrt(2)*s_A*d/T_mA) #baseline energy\n",
    "\n",
    "W_A = 3*s_A/(np.sqrt(2)*T_mA*d)\n",
    "W_B = 3*s_B/(np.sqrt(2)*T_mB*d)\n",
    "M_A = T_mA*T_mA*B_A/(6*np.sqrt(2)*L_A*d)\n",
    "M_B = T_mB*T_mB*B_B/(6*np.sqrt(2)*L_B*d)\n",
    "ebar = np.sqrt(6*np.sqrt(2)*s_A*d/T_mA)\n",
    "print(W_A)\n",
    "\n",
    "c = np.zeros(res)\n",
    "phi = np.zeros(res)\n",
    "q1 = np.zeros(res)\n",
    "q2 = np.zeros(res)\n",
    "q3 = np.zeros(res)\n",
    "q4 = np.zeros(res)\n",
    "c += 0.40831\n",
    "#c += 0.001*np.random.rand(res, res)\n",
    "phi += 1\n",
    "phi[0] = 0\n",
    "phi[res-1] = 0\n",
    "diamondParam = 15\n",
    "for i in range(res):\n",
    "    q1[i] = (0.3*i+0.5)/(res-1)\n",
    "    q2[i] = (0.3*(res-i-1)+0.5)/(res-1)\n",
    "\n",
    "reference = np.zeros(res)\n",
    "for i in range(res):\n",
    "    reference[i] = i\n",
    "if not os.path.isdir('data'):\n",
    "    os.makedirs('data')"
   ]
  },
  {
   "cell_type": "code",
   "execution_count": 190,
   "metadata": {
    "collapsed": false,
    "scrolled": false
   },
   "outputs": [
    {
     "name": "stdout",
     "output_type": "stream",
     "text": [
      "Done!\n"
     ]
    }
   ],
   "source": [
    "#T = 1574\n",
    "for i in range(20000):\n",
    "    #print(i)\n",
    "    g = _g(phi)\n",
    "    p = _p(phi)\n",
    "    gprime = _gprime(phi)\n",
    "    H_A = W_A*gprime + 30*L_A*(1/T-1/T_mA)*g\n",
    "    H_B = W_B*gprime + 30*L_B*(1/T-1/T_mB)*g\n",
    "    phixx = grad2(phi, dx)\n",
    "    lphi = phixx\n",
    "    phix = grad(phi, dx, i)\n",
    "    gq1 = grad(q1, dx, i)\n",
    "    gq2 = grad(q2, dx, i)\n",
    "    gq3 = grad(q3, dx, i)\n",
    "    gq4 = grad(q4, dx, i)\n",
    "    #print(gq1)\n",
    "    smallest = 1e7\n",
    "    for i in range(res):\n",
    "        if(np.absolute(gq1[i]) < smallest):\n",
    "            gq1[i] = smallest*np.sign(gq1[i])\n",
    "        if(np.absolute(gq2[i]) < smallest):\n",
    "            gq2[i] = smallest*np.sign(gq2[i])\n",
    "        if(np.absolute(gq3[i]) < smallest):\n",
    "            gq3[i] = smallest*np.sign(gq3[i])\n",
    "        if(np.absolute(gq4[i]) < smallest):\n",
    "            gq4[i] = smallest*np.sign(gq4[i])\n",
    "    lq1 = grad2(q1, dx)\n",
    "    lq2 = grad2(q2, dx)\n",
    "    lq3 = grad2(q3, dx)\n",
    "    lq4 = grad2(q4, dx)\n",
    "    \n",
    "    gqs = gq1*gq1+gq2*gq2+gq3*gq3+gq4*gq4\n",
    "    rgqs = np.sqrt(gqs)\n",
    "    gqs2 = gq1*lq1+gq2*lq2+gq3*lq3+gq4*lq4\n",
    "    \n",
    "    H = ebar*0.00001 # surface energy term for quaternions\n",
    "    #print(H_A)\n",
    "    \n",
    "    #change in c\n",
    "    D_C = D_S+p*(D_L-D_S)\n",
    "    temp = D_C*v_m*c*(1-c)*(H_B-H_A)/R\n",
    "    deltac = D_C*(grad2(c, dx))+(grad(D_C, dx, i)*grad(c, dx, i))+temp*(lphi)+(grad(temp, dx, i)*phix)\n",
    "    #print(deltac)\n",
    "    #print(temp)\n",
    "    \n",
    "    #change in phi\n",
    "    M_phi = 1.*((1-c)*M_A + c*M_B)\n",
    "    deltaphi = M_phi*(ebar*ebar*lphi-(1-c)*H_A-c*H_B+60*H*T*g*rgqs)\n",
    "    #randArray = 2*np.random.rand(res)-1\n",
    "    #alpha = 0.3\n",
    "    #deltaphi += M_phi*alpha*randArray*(16*g)*((1-c)*H_A+c*H_B)\n",
    "    \n",
    "    #changes in q\n",
    "    p2 = 1-p\n",
    "    M_q = 8000000000*p\n",
    "    gp2r = grad(p2, dx, i)/rgqs\n",
    "    p2r3 = p2/(rgqs*gqs)\n",
    "    t1 = H*T*(gp2r*gq1+p2r3*(lq1*gqs - gq1*gqs2))\n",
    "    t2 = H*T*(gp2r*gq2+p2r3*(lq2*gqs - gq2*gqs2))\n",
    "    t3 = H*T*(gp2r*gq3+p2r3*(lq3*gqs - gq3*gqs2))\n",
    "    t4 = H*T*(gp2r*gq4+p2r3*(lq4*gqs - gq4*gqs2))\n",
    "    second = q1*t1+q2*t2+q3*t3+q4*t4\n",
    "    deltaq1 = M_q*(t1-q1*second+5e-14*lq1)\n",
    "    deltaq2 = M_q*(t2-q2*second+5e-14*lq2)\n",
    "    deltaq3 = M_q*(t3-q3*second+5e-14*lq3)\n",
    "    deltaq4 = M_q*(t4-q4*second+5e-14*lq4)\n",
    "    \n",
    "    #apply changes\n",
    "    deltaphi[0] = 0\n",
    "    deltac[0] = 0\n",
    "    deltaq1[0] = 0\n",
    "    deltaq2[0] = 0\n",
    "    deltaq3[0] = 0\n",
    "    deltaq4[0] = 0\n",
    "    deltaphi[res-1] = 0\n",
    "    deltac[res-1] = 0\n",
    "    deltaq1[res-1] = 0\n",
    "    deltaq2[res-1] = 0\n",
    "    deltaq3[res-1] = 0\n",
    "    deltaq4[res-1] = 0\n",
    "    #print(c)\n",
    "    #print(phi)\n",
    "    #print(q1)\n",
    "    #print(q2)\n",
    "    #print(q3)\n",
    "    #print(q4)\n",
    "    #print(gqs)\n",
    "    #print(\"gp2r:\", gp2r)\n",
    "    #print(\"Second: \", second)\n",
    "    #print(\"t4:\", t4)\n",
    "    \n",
    "    ctemp = c.copy()\n",
    "    c += deltac*dt\n",
    "    phi += deltaphi*dt\n",
    "    q1 += deltaq1*dt\n",
    "    q2 += deltaq2*dt\n",
    "    q3 += deltaq3*dt\n",
    "    q4 += deltaq4*dt\n",
    "    q1, q2, q3, q4 = renormalize(q1, q2, q3, q4)\n",
    "\n",
    "#print(c)\n",
    "#print(phi)\n",
    "#print(q1)\n",
    "#print(q2)\n",
    "#print(q3)\n",
    "#print(q4)    \n",
    "print(\"Done!\")"
   ]
  },
  {
   "cell_type": "code",
   "execution_count": 193,
   "metadata": {
    "collapsed": false
   },
   "outputs": [
    {
     "data": {
      "image/png": "[encoded data removed]",
      "text/plain": [
       "<matplotlib.figure.Figure at 0x89e8f98>"
      ]
     },
     "metadata": {},
     "output_type": "display_data"
    }
   ],
   "source": [
    "plt.rcParams['figure.figsize'] = 6, 4\n",
    "plt.title('Quaternions')\n",
    "plt.plot(reference,phi, 'b')\n",
    "plt.plot(reference,q1*q1,'k:')\n",
    "plt.plot(reference,q2*q2,'k--')\n",
    "plt.plot(reference,q3*q3,'k-.')\n",
    "plt.plot(reference,q4*q4,'k.')\n",
    "plt.legend(['phi', 'q1^2', 'q2^2', 'q3^2', 'q4^2'], loc=5)\n",
    "plt.savefig('graph.png')"
   ]
  },
  {
   "cell_type": "code",
   "execution_count": null,
   "metadata": {
    "collapsed": true
   },
   "outputs": [],
   "source": []
  },
  {
   "cell_type": "code",
   "execution_count": null,
   "metadata": {
    "collapsed": true
   },
   "outputs": [],
   "source": []
  }
 ],
 "metadata": {
  "anaconda-cloud": {},
  "kernelspec": {
   "display_name": "Python [default]",
   "language": "python",
   "name": "python2"
  },
  "language_info": {
   "codemirror_mode": {
    "name": "ipython",
    "version": 2
   },
   "file_extension": ".py",
   "mimetype": "text/x-python",
   "name": "python",
   "nbconvert_exporter": "python",
   "pygments_lexer": "ipython2",
   "version": "2.7.12"
  }
 },
 "nbformat": 4,
 "nbformat_minor": 1
}
